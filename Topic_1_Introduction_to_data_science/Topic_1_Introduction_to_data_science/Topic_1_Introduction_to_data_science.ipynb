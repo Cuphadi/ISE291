{
 "cells": [
  {
   "cell_type": "markdown",
   "metadata": {
    "slideshow": {
     "slide_type": "slide"
    }
   },
   "source": [
    "<img src=\"img/Slide1.png\" width=1200 height=800 />"
   ]
  },
  {
   "cell_type": "markdown",
   "metadata": {
    "slideshow": {
     "slide_type": "slide"
    }
   },
   "source": [
    " <img src=\"img/Slide2.png\" width=1200 height=800 />"
   ]
  },
  {
   "cell_type": "markdown",
   "metadata": {
    "slideshow": {
     "slide_type": "slide"
    },
    "toc": true
   },
   "source": [
    "<h1>Table of Contents<span class=\"tocSkip\"></span></h1>\n",
    "<div class=\"toc\"><ul class=\"toc-item\"><li><span><a href=\"#Introduction-to-Data-Science\" data-toc-modified-id=\"Introduction-to-Data-Science-1\"><span class=\"toc-item-num\">1&nbsp;&nbsp;</span>Introduction to Data Science</a></span><ul class=\"toc-item\"><li><span><a href=\"#Data-Science-and-Data-Scientist\" data-toc-modified-id=\"Data-Science-and-Data-Scientist-1.1\"><span class=\"toc-item-num\">1.1&nbsp;&nbsp;</span>Data Science and Data Scientist</a></span></li><li><span><a href=\"#Learning-Outcomes\" data-toc-modified-id=\"Learning-Outcomes-1.2\"><span class=\"toc-item-num\">1.2&nbsp;&nbsp;</span>Learning Outcomes</a></span></li></ul></li><li><span><a href=\"#Role-of-Data-Scientist\" data-toc-modified-id=\"Role-of-Data-Scientist-2\"><span class=\"toc-item-num\">2&nbsp;&nbsp;</span>Role of Data Scientist</a></span><ul class=\"toc-item\"><li><span><a href=\"#Roles-for-a-Successful-Analytics-Project-[2]\" data-toc-modified-id=\"Roles-for-a-Successful-Analytics-Project-[2]-2.1\"><span class=\"toc-item-num\">2.1&nbsp;&nbsp;</span>Roles for a Successful Analytics Project [2]</a></span></li><li><span><a href=\"#Non-Data-Scientist-Roles-[2]\" data-toc-modified-id=\"Non-Data-Scientist-Roles-[2]-2.2\"><span class=\"toc-item-num\">2.2&nbsp;&nbsp;</span>Non-Data Scientist Roles [2]</a></span></li><li><span><a href=\"#Data-Scientist-Role-[2]\" data-toc-modified-id=\"Data-Scientist-Role-[2]-2.3\"><span class=\"toc-item-num\">2.3&nbsp;&nbsp;</span>Data Scientist Role [2]</a></span></li></ul></li><li><span><a href=\"#Data-Driven-Approach\" data-toc-modified-id=\"Data-Driven-Approach-3\"><span class=\"toc-item-num\">3&nbsp;&nbsp;</span>Data Driven Approach</a></span><ul class=\"toc-item\"><li><span><a href=\"#Why-Data-Driven?\" data-toc-modified-id=\"Why-Data-Driven?-3.1\"><span class=\"toc-item-num\">3.1&nbsp;&nbsp;</span>Why Data Driven?</a></span></li></ul></li><li><span><a href=\"#Data-Analytics-Life-Cycle\" data-toc-modified-id=\"Data-Analytics-Life-Cycle-4\"><span class=\"toc-item-num\">4&nbsp;&nbsp;</span>Data Analytics Life Cycle</a></span><ul class=\"toc-item\"><li><span><a href=\"#The-Cycle-[2]\" data-toc-modified-id=\"The-Cycle-[2]-4.1\"><span class=\"toc-item-num\">4.1&nbsp;&nbsp;</span>The Cycle [2]</a></span></li><li><span><a href=\"#The-Six-Phases-[2]\" data-toc-modified-id=\"The-Six-Phases-[2]-4.2\"><span class=\"toc-item-num\">4.2&nbsp;&nbsp;</span>The Six Phases [2]</a></span></li></ul></li><li><span><a href=\"#References\" data-toc-modified-id=\"References-5\"><span class=\"toc-item-num\">5&nbsp;&nbsp;</span>References</a></span><ul class=\"toc-item\"><li><span><a href=\"#Theory:\" data-toc-modified-id=\"Theory:-5.1\"><span class=\"toc-item-num\">5.1&nbsp;&nbsp;</span>Theory:</a></span></li></ul></li></ul></div>"
   ]
  },
  {
   "cell_type": "markdown",
   "metadata": {
    "slideshow": {
     "slide_type": "slide"
    }
   },
   "source": [
    "# Introduction to Data Science\n",
    "> 📌 Where and when about Data Science"
   ]
  },
  {
   "cell_type": "markdown",
   "metadata": {
    "slideshow": {
     "slide_type": "fragment"
    }
   },
   "source": [
    "## Data Science and Data Scientist\n",
    "\n",
    "Before learning the methods/techniques of data science:\n",
    "\n",
    "1. Let us identify the where a data scientist typically fits in a business project.\n",
    "2. Let us highlight the importance the data driven based decision making ideology.\n",
    "3. Let us understand the basic processes involved in a data science project."
   ]
  },
  {
   "cell_type": "markdown",
   "metadata": {
    "slideshow": {
     "slide_type": "slide"
    }
   },
   "source": [
    "## Learning Outcomes\n",
    "1. Identify the role of data scientist. \n",
    "2. State the importance of data driven approach.\n",
    "3. List the phases of data analytics life cycle."
   ]
  },
  {
   "cell_type": "markdown",
   "metadata": {
    "slideshow": {
     "slide_type": "slide"
    }
   },
   "source": [
    "# Role of Data Scientist\n",
    "> 📌 What do data scientist do?"
   ]
  },
  {
   "cell_type": "markdown",
   "metadata": {
    "slideshow": {
     "slide_type": "fragment"
    }
   },
   "source": [
    "## Roles for a Successful Analytics Project [2]\n",
    "There are actually seven key roles that need to be fulfilled for a high-functioning data science team to execute analytic projects successfully. The following image depicts the seven key roles:\n",
    "\n",
    "\n",
    " <img src=\"img/sevenRoles.png\" width=600 height=400/>\n"
   ]
  },
  {
   "cell_type": "markdown",
   "metadata": {
    "slideshow": {
     "slide_type": "slide"
    }
   },
   "source": [
    "## Non-Data Scientist Roles [2]\n",
    "**Business User:** Someone who understands the domain area and usually benefits from the results. \n",
    "\n",
    "**Project Sponsor:** Responsible for the genesis of the project. Provides the impetus and requirements for the project and defines the core business problem. Generally provides the funding and gauges the degree of value from the final outputs of the working team. This person sets the priorities for the project and clarifies the desired outputs.\n",
    "\n",
    "**Project Manager:** Ensures that key milestones and objectives are met on time and at the expected quality.\n",
    "\n",
    "**Business Intelligence Analyst:** Provides business domain expertise based on a deep understanding of the data, key performance indicators, key metrics, and business intelligence from a reporting perspective. Business Intelligence Analysts generally create dashboards and reports and have knowledge of the data feeds and sources.\n",
    "\n",
    "**Database Administrator:** Provisions and configures the database environment to support the analytics needs of the working team. These responsibilities may include providing access to key databases or tables and ensuring the appropriate security levels are in place related to the data repositories.\n",
    "\n",
    "**Data Engineer:** Leverages deep technical skills to assist with tuning SQL queries for data management and data extraction, and provides support for data ingestion into the analytic sandbox. Whereas the DBA sets up and configures the databases to be used, the data engineer executes the actual data extractions and performs substantial data manipulation to facilitate the analytics. The data engineer works closely with the data scientist to help shape data in the right ways for analyses.\n"
   ]
  },
  {
   "cell_type": "markdown",
   "metadata": {
    "slideshow": {
     "slide_type": "slide"
    }
   },
   "source": [
    "## Data Scientist Role [2]\n",
    "**Data Scientist:** \n",
    "1. Provides subject matter expertise for:  \n",
    "     i. analytical techniques,  \n",
    "     ii. data modeling.\n",
    "2. Applying valid analytical techniques. \n",
    "3. Ensures overall analytics objectives are met. \n",
    "4. Designs and executes analytical methods and approaches with the data available to the project."
   ]
  },
  {
   "cell_type": "markdown",
   "metadata": {
    "slideshow": {
     "slide_type": "slide"
    }
   },
   "source": [
    "# Data Driven Approach\n",
    "> 📌 Follow intuition or data?"
   ]
  },
  {
   "cell_type": "markdown",
   "metadata": {
    "slideshow": {
     "slide_type": "fragment"
    }
   },
   "source": [
    "## Why Data Driven?\n",
    "1. Blind Spots in business often arise due to lack of information.\n",
    "2. **Data-Driven:** it means an activity driven by data rather than intuition or by personal experience.\n",
    "3. In top-performing organizations, analytics has replaced intuition as the best way to answer questions about what markets to pursue, how to configure and price offerings, and how to identify where operations can be made more efficient in response to cost and environmental constraints [3].\n",
    "4. Data scientists focus more on producing data-driven products than answering operational corporate questions.\n"
   ]
  },
  {
   "cell_type": "markdown",
   "metadata": {
    "slideshow": {
     "slide_type": "slide"
    }
   },
   "source": [
    "# Data Analytics Life Cycle\n",
    "> 📌 Where it begins, and when it ends..."
   ]
  },
  {
   "cell_type": "markdown",
   "metadata": {
    "slideshow": {
     "slide_type": "fragment"
    }
   },
   "source": [
    "## The Cycle [2]\n",
    "\n",
    "1. The Data Analytics Lifecycle defines analytics process best practices spanning discovery to project completion. \n",
    "2. Following video presents an overview of the Data Analytics Lifecycle that includes six phases. \n",
    "\n",
    "<video width=\"640\" height=\"480\" controls src=\"img/DataAnalyticsLifeCycle.mp4\" />\n"
   ]
  },
  {
   "cell_type": "markdown",
   "metadata": {
    "slideshow": {
     "slide_type": "slide"
    }
   },
   "source": [
    "## The Six Phases [2]\n",
    "Here is a brief overview of the main phases of the Data Analytics Lifecycle:\n",
    "\n",
    "**Phase 1—Discovery:** In Phase 1, the team learns the business domain, including attempted similar projects in the past from which they can learn. The team assesses the resources available to support the project in terms of people, technology, time, and data. Important activities in this phase include framing the business problem as an analytics challenge that can be addressed in subsequent phases and formulating initial hypotheses to test and begin learning the data.  \n",
    "\n",
    "**Phase 2—Data preparation:** Phase 2 the team works with data and perform analytics for the duration of the project. The team needs to execute extract, load, and transform (ELT) or extract, transform and load (ETL) to get data into the sandbox. The ELT and ETL are sometimes abbreviated as ETLT. Data should be transformed in the ETLT process so the team can work with it and analyze it. In this phase, the team also needs to familiarize itself with the data thoroughly and take steps to condition the data.  \n",
    "\n",
    "**Phase 3—Model planning:** Phase 3 is model planning, where the team determines the methods, techniques, and workflow it intends to follow for the subsequent model building phase. The team explores the data to learn about the relationships between variables and subsequently selects key variables and the most suitable models.  \n",
    "\n",
    "**Phase 4—Model building:** In Phase 4, the team develops datasets for testing, training, and production purposes. In addition, in this phase the team builds and executes models based on the work done in the model planning phase. The team also considers whether its existing tools will suffice for running the models, or if it will need a more robust environment for executing models and workflows (for example, fast hardware and parallel processing, if applicable).  \n",
    "\n",
    "**Phase 5—Communicate results:** In Phase 5, the team, in collaboration with major stakeholders, determines if the results of the project are a success or a failure based on the criteria developed in Phase 1. The team should identify key findings, quantify the business value, and develop a narrative to summarize and convey findings to stakeholders.  \n",
    "\n",
    "**Phase 6—Operationalize:** In Phase 6, the team delivers final reports, briefings, code, and technical documents. In addition, the team may run a pilot project to implement the models in a production environment. \n",
    "\n",
    "Once team members have run models and produced findings, it is critical to frame these results in a way that is tailored to the audience that engaged the team. Moreover, it is critical to frame the results of the work in a manner that demonstrates clear value. If the team performs a technically accurate analysis but fails to translate the results into a language that resonates with the audience, people will not see the value, and much of the time and effort on the project will have been wasted."
   ]
  },
  {
   "cell_type": "markdown",
   "metadata": {
    "slideshow": {
     "slide_type": "slide"
    }
   },
   "source": [
    "# References\n",
    "## Theory:   \n",
    "\n",
    "1. Chirag Shah, \"A Hands-On Introduction to Data Science,\" Cambridge University Press, 2020, **Section 1.6** Example 1.2. 📕  \n",
    "2. Dietrich, David (EMC Education Services), \"Data Analytics Lifecycle: Data Science and Big Data Analytics: Discovering, Analyzing, Visualizing and Presenting Data\", John Wiley & Sons, 2015, **Chapter 2**.📕  \n",
    "3. LaValle, Steve. \"Breaking away with business analytics and optimization: New intelligence meets enterprise operations.\" IBM Institute for Business Value, 2009. 📃\n",
    "\n"
   ]
  },
  {
   "cell_type": "code",
   "execution_count": null,
   "metadata": {
    "scrolled": true
   },
   "outputs": [],
   "source": []
  }
 ],
 "metadata": {
  "celltoolbar": "Slideshow",
  "hide_input": false,
  "kernelspec": {
   "display_name": "Python 3",
   "language": "python",
   "name": "python3"
  },
  "language_info": {
   "codemirror_mode": {
    "name": "ipython",
    "version": 3
   },
   "file_extension": ".py",
   "mimetype": "text/x-python",
   "name": "python",
   "nbconvert_exporter": "python",
   "pygments_lexer": "ipython3",
   "version": "3.7.3"
  },
  "toc": {
   "base_numbering": 1,
   "nav_menu": {},
   "number_sections": true,
   "sideBar": true,
   "skip_h1_title": false,
   "title_cell": "Table of Contents",
   "title_sidebar": "Contents",
   "toc_cell": true,
   "toc_position": {
    "height": "492.233px",
    "left": "315px",
    "top": "110.283px",
    "width": "211.992px"
   },
   "toc_section_display": true,
   "toc_window_display": true
  },
  "varInspector": {
   "cols": {
    "lenName": 16,
    "lenType": 16,
    "lenVar": 40
   },
   "kernels_config": {
    "python": {
     "delete_cmd_postfix": "",
     "delete_cmd_prefix": "del ",
     "library": "var_list.py",
     "varRefreshCmd": "print(var_dic_list())"
    },
    "r": {
     "delete_cmd_postfix": ") ",
     "delete_cmd_prefix": "rm(",
     "library": "var_list.r",
     "varRefreshCmd": "cat(var_dic_list()) "
    }
   },
   "types_to_exclude": [
    "module",
    "function",
    "builtin_function_or_method",
    "instance",
    "_Feature"
   ],
   "window_display": false
  }
 },
 "nbformat": 4,
 "nbformat_minor": 2
}
